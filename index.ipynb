{
 "cells": [
  {
   "cell_type": "code",
   "execution_count": 115,
   "metadata": {},
   "outputs": [],
   "source": [
    "from dotenv import load_dotenv\n",
    "import os\n",
    "from openai import OpenAI\n",
    "load_dotenv()\n",
    "api_key = os.getenv(\"OPENAI_API_KEY\")\n",
    "client = OpenAI(api_key=api_key)"
   ]
  },
  {
   "cell_type": "markdown",
   "metadata": {},
   "source": [
    "AI Startup Assistant"
   ]
  },
  {
   "cell_type": "code",
   "execution_count": 116,
   "metadata": {},
   "outputs": [],
   "source": [
    "assistant = client.beta.assistants.create(\n",
    "    name=\"Social Media Bot\",\n",
    "    instructions=\"You are a helpful assistant for a social media startup. You will assist with content generation.\",\n",
    "    tools=[{\"type\": \"code_interpreter\"}],\n",
    "    model=\"gpt-4o\"\n",
    ")"
   ]
  },
  {
   "cell_type": "markdown",
   "metadata": {},
   "source": [
    "Create a Thread"
   ]
  },
  {
   "cell_type": "code",
   "execution_count": 117,
   "metadata": {},
   "outputs": [],
   "source": [
    "def create_thread():\n",
    "    thread = client.beta.threads.create()\n",
    "    print(f\"Thread created: {thread}\")\n",
    "    return thread"
   ]
  },
  {
   "cell_type": "markdown",
   "metadata": {},
   "source": [
    "Add a Message to a Thread"
   ]
  },
  {
   "cell_type": "code",
   "execution_count": 118,
   "metadata": {},
   "outputs": [],
   "source": [
    "def add_message_to_thread(thread_id, message_content):\n",
    "    message = client.beta.threads.messages.create(\n",
    "        thread_id=thread_id,\n",
    "        role=\"user\",\n",
    "        content=message_content\n",
    "    )\n",
    "    print(f\"Message added to thread: {message}\")\n",
    "    return message"
   ]
  },
  {
   "cell_type": "markdown",
   "metadata": {},
   "source": [
    "Run the Assistant"
   ]
  },
  {
   "cell_type": "code",
   "execution_count": 119,
   "metadata": {},
   "outputs": [],
   "source": [
    "def run_assistant(thread_id, assistant_id):\n",
    "    run = client.beta.threads.runs.create(\n",
    "        thread_id=thread_id,\n",
    "        assistant_id=assistant_id\n",
    "    )\n",
    "    print(f\"Run created: {run}\")\n",
    "    return run"
   ]
  },
  {
   "cell_type": "markdown",
   "metadata": {},
   "source": [
    "Retreive and Display the Assistant's Response"
   ]
  },
  {
   "cell_type": "code",
   "execution_count": 120,
   "metadata": {},
   "outputs": [],
   "source": [
    "# Function to retrieve and display the assistant's response\n",
    "def display_assistant_response(thread_id, run_id):\n",
    "    messages = client.beta.threads.messages.list(thread_id=thread_id)\n",
    "    for message in reversed(messages.data):\n",
    "        if message.role == \"assistant\":\n",
    "            for content in message.content:\n",
    "                print(f\"Assistant: {content.text.value}\")\n",
    "            return\n",
    "    print(\"No response from assistant.\")"
   ]
  },
  {
   "cell_type": "markdown",
   "metadata": {},
   "source": [
    "Generate Content Example"
   ]
  },
  {
   "cell_type": "code",
   "execution_count": 121,
   "metadata": {},
   "outputs": [
    {
     "name": "stdout",
     "output_type": "stream",
     "text": [
      "\n",
      "Content Generation Example:\n",
      "Thread created: Thread(id='thread_YqgIPD1wwgGhMj7nUpFnBaMX', created_at=1720200922, metadata={}, object='thread', tool_resources=ToolResources(code_interpreter=None, file_search=None))\n",
      "Message added to thread: Message(id='msg_jmprxQCkxMcHp71l431bD8i5', assistant_id=None, attachments=[], completed_at=None, content=[TextContentBlock(text=Text(annotations=[], value='Generate a creative social media post about our new feature that allows users to customize their profiles.'), type='text')], created_at=1720200922, incomplete_at=None, incomplete_details=None, metadata={}, object='thread.message', role='user', run_id=None, status=None, thread_id='thread_YqgIPD1wwgGhMj7nUpFnBaMX')\n",
      "Run created: Run(id='run_VzP4ooXy6lXpRRP949EOndq7', assistant_id='asst_tGlore2xEJnL4Y9nu7tYLvki', cancelled_at=None, completed_at=None, created_at=1720200922, expires_at=1720201522, failed_at=None, incomplete_details=None, instructions='You are a helpful assistant for a social media startup. You will assist with content generation.', last_error=None, max_completion_tokens=None, max_prompt_tokens=None, metadata={}, model='gpt-4o', object='thread.run', parallel_tool_calls=True, required_action=None, response_format='auto', started_at=None, status='queued', thread_id='thread_YqgIPD1wwgGhMj7nUpFnBaMX', tool_choice='auto', tools=[CodeInterpreterTool(type='code_interpreter')], truncation_strategy=TruncationStrategy(type='auto', last_messages=None), usage=None, temperature=1.0, top_p=1.0, tool_resources={})\n",
      "Assistant: 🎉 **Exciting News! Personalize Your Profile Like Never Before! 🌟**\n",
      "\n",
      "Hey #CommunityName! We've got something super cool rolling out just for YOU! 🚀\n",
      "\n",
      "Introducing our **New Profile Customization Feature**! 🎨✨ Now you can:\n",
      "\n",
      "🌈 **Choose your favorite color schemes!**\n",
      "📸 **Add unique profile backgrounds!**\n",
      "🖋️ **Customize your bio with stylish fonts!**\n",
      "🎉 **Show off your personality like never before!**\n",
      "\n",
      "Ready to make your profile uniquely YOU? Update now and start customizing! 🔧\n",
      "\n",
      "👇 Drop your newly designed profiles in the comments! We can't wait to see your creativity! \n",
      "\n",
      "#ProfilePerfection #CustomizeYourLife #NewFeature #UpdateNow\n"
     ]
    }
   ],
   "source": [
    "import time\n",
    "\n",
    "\n",
    "print(\"\\nContent Generation Example:\")\n",
    "thread = create_thread()\n",
    "thread_id = thread.id\n",
    "app_name = \"NewPlayer\"\n",
    "content_message = \"Generate a creative social media post about our new feature that allows users to customize their profiles.\"\n",
    "add_message_to_thread(thread_id, content_message)\n",
    "run = run_assistant(thread_id, assistant.id)\n",
    "\n",
    "time.sleep(5)\n",
    "\n",
    "display_assistant_response(thread_id, run.id)"
   ]
  }
 ],
 "metadata": {
  "kernelspec": {
   "display_name": "Python 3",
   "language": "python",
   "name": "python3"
  },
  "language_info": {
   "codemirror_mode": {
    "name": "ipython",
    "version": 3
   },
   "file_extension": ".py",
   "mimetype": "text/x-python",
   "name": "python",
   "nbconvert_exporter": "python",
   "pygments_lexer": "ipython3",
   "version": "3.12.4"
  }
 },
 "nbformat": 4,
 "nbformat_minor": 2
}
