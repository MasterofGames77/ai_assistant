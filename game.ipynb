{
 "cells": [
  {
   "cell_type": "code",
   "execution_count": null,
   "metadata": {},
   "outputs": [],
   "source": [
    "import sys\n",
    "print(sys.path)"
   ]
  },
  {
   "cell_type": "code",
   "execution_count": null,
   "metadata": {},
   "outputs": [],
   "source": [
    "from dotenv import load_dotenv\n",
    "import os\n",
    "import requests\n",
    "import logging\n",
    "from openai import OpenAI\n",
    "\n",
    "# Load environment variables\n",
    "load_dotenv()\n",
    "\n",
    "# Retrieve environment variables\n",
    "openai_api_key = os.getenv(\"OPENAI_API_KEY\")\n",
    "twitch_client_id = os.getenv(\"TWITCH_CLIENT_ID\")\n",
    "twitch_client_secret = os.getenv(\"TWITCH_CLIENT_SECRET\")\n",
    "twitch_redirect_uri = os.getenv(\"TWITCH_REDIRECT_URI\")\n",
    "twitch_auth_url = os.getenv(\"TWITCH_AUTH_URL\")\n",
    "twitch_token_url = os.getenv(\"TWITCH_TOKEN_URL\")\n",
    "twitch_scopes = os.getenv(\"TWITCH_SCOPES\")\n",
    "\n",
    "client = OpenAI(api_key=openai_api_key)"
   ]
  },
  {
   "cell_type": "markdown",
   "metadata": {},
   "source": [
    "Ensure Variables are Loaded Correctly"
   ]
  },
  {
   "cell_type": "code",
   "execution_count": null,
   "metadata": {},
   "outputs": [],
   "source": [
    "if not all([openai_api_key, twitch_client_id, twitch_client_secret, twitch_token_url]):\n",
    "    raise ValueError(\"One or more environment variables are missing or not set correctly\")"
   ]
  },
  {
   "cell_type": "markdown",
   "metadata": {},
   "source": [
    "Configure Logging"
   ]
  },
  {
   "cell_type": "code",
   "execution_count": null,
   "metadata": {},
   "outputs": [],
   "source": [
    "logging.basicConfig(level=logging.INFO, format='%(asctime)s - %(levelname)s - %(message)s')"
   ]
  },
  {
   "cell_type": "markdown",
   "metadata": {},
   "source": [
    "Get Access Token"
   ]
  },
  {
   "cell_type": "code",
   "execution_count": null,
   "metadata": {},
   "outputs": [],
   "source": [
    "import time\n",
    "import datetime\n",
    "\n",
    "# Global variable to store the token and its expiry time\n",
    "token_info = {\n",
    "    \"access_token\": None,\n",
    "    \"expires_at\": None\n",
    "}\n",
    "\n",
    "def get_access_token(client_id, client_secret, token_url):\n",
    "    data = {\n",
    "        'client_id': client_id,\n",
    "        'client_secret': client_secret,\n",
    "        'grant_type': 'client_credentials'\n",
    "    }\n",
    "    response = requests.post(token_url, data=data)\n",
    "    response.raise_for_status()  # Raise an exception for bad responses\n",
    "    token_data = response.json()\n",
    "    access_token = token_data.get('access_token')\n",
    "    expires_in = token_data.get('expires_in')\n",
    "\n",
    "    # Update the token_info with the new token and expiry time\n",
    "    token_info['access_token'] = access_token\n",
    "    token_info['expires_at'] = datetime.datetime.now() + datetime.timedelta(seconds=expires_in)\n",
    "    \n",
    "    return access_token\n",
    "\n",
    "def check_token():\n",
    "    \"\"\"Check if the token is expired and refresh it if needed.\"\"\"\n",
    "    if token_info['expires_at'] is None or token_info['expires_at'] <= datetime.datetime.now():\n",
    "        print(\"Token has expired, fetching new token...\")\n",
    "        get_access_token(twitch_client_id, twitch_client_secret, twitch_token_url)\n",
    "    else:\n",
    "        print(\"Token is still valid.\")\n",
    "\n",
    "# Example usage\n",
    "try:\n",
    "    # Always check the token before making a request\n",
    "    check_token()\n",
    "    access_token = token_info['access_token']\n",
    "    if access_token:\n",
    "        print(f\"Using access token: {access_token}\")\n",
    "        # Proceed with using the access token for API requests\n",
    "    else:\n",
    "        print(\"Failed to obtain access token.\")\n",
    "except Exception as e:\n",
    "    print(f\"Error obtaining or using access token: {e}\")\n",
    "\n",
    "print(\"Token URL:\", twitch_token_url)  # This line might be redundant unless you need to confirm the URL"
   ]
  },
  {
   "cell_type": "markdown",
   "metadata": {},
   "source": [
    "Make a Request to IGDB API"
   ]
  },
  {
   "cell_type": "code",
   "execution_count": null,
   "metadata": {},
   "outputs": [],
   "source": [
    "def fetch_igdb_data(access_token, client_id):\n",
    "    headers = {\n",
    "        'Client-ID': client_id,\n",
    "        'Authorization': f'Bearer {access_token}',\n",
    "    }\n",
    "    response = requests.post(\n",
    "        'https://api.igdb.com/v4/games',\n",
    "        headers=headers,\n",
    "        data='fields name,genres.name,platforms.name,release_dates.human; limit 10;'\n",
    "    )\n",
    "    if response.status_code == 200:\n",
    "        return response.json()\n",
    "    else:\n",
    "        raise Exception(f\"Failed to fetch data: {response.status_code}, {response.text}\")\n",
    "\n",
    "# Fetch IGDB data\n",
    "try:\n",
    "    games_data = fetch_igdb_data(access_token, twitch_client_id)\n",
    "    for game in games_data:\n",
    "        print(game)\n",
    "except Exception as e:\n",
    "    logging.error(f\"Error fetching IGDB data: {e}\")"
   ]
  },
  {
   "cell_type": "markdown",
   "metadata": {},
   "source": [
    "Check if API Key is loaded"
   ]
  },
  {
   "cell_type": "code",
   "execution_count": null,
   "metadata": {},
   "outputs": [],
   "source": [
    "if openai_api_key is None:\n",
    "    raise ValueError(\"API key not found. Please set the OPENAI_API_KEY environment variable.\")"
   ]
  },
  {
   "cell_type": "markdown",
   "metadata": {},
   "source": [
    "AI Game Analytics "
   ]
  },
  {
   "cell_type": "code",
   "execution_count": null,
   "metadata": {},
   "outputs": [],
   "source": [
    "assistant = client.beta.assistants.create(\n",
    "    name=\"Video Game Analytics Assistant\",\n",
    "    instructions=\"\"\"\n",
    "    You are an AI assistant specializing in video game. You can provide detailed analytics and insights into gameplay, helping players track their progress and identify areas for improvement. \n",
    "    You can answer questions about game completion times, strategies to progress past difficult sections, fastest speedrun times, and general tips and tricks.\n",
    "    For example:\n",
    "    - \"How long would it take to fully complete Super Mario Bros. on NES?\"\n",
    "    - \"How do I progress past the Water Temple in The Legend of Zelda: Ocarina of Time?\"\n",
    "    - \"What is the fastest speedrun time for Sonic the Hedgehog?\"\n",
    "    - \"Give me tips and tricks to improve my gameplay in Fortnite.\"\n",
    "    - \"Give me a guide on how to clear Chapter 3 in Paper Mario: The Thousand Year Door.\"\n",
    "    - \"What is the best strategy for completing Shrines in The Legend of Zelda: Breath of the Wild?\"\n",
    "    Use up-to-date information and provide the best possible answers to enhance the user's gaming experience.\n",
    "    \"\"\",\n",
    "    tools=[{\"type\": \"code_interpreter\"}],  # Add more tools if needed\n",
    "    model=\"gpt-4o\"\n",
    ")"
   ]
  },
  {
   "cell_type": "markdown",
   "metadata": {},
   "source": [
    "Create a Thred"
   ]
  },
  {
   "cell_type": "code",
   "execution_count": null,
   "metadata": {},
   "outputs": [],
   "source": [
    "from openai import APIError\n",
    "\n",
    "def create_thread():\n",
    "    try:\n",
    "        thread = client.beta.threads.create()\n",
    "        logging.info(f\"Thread created: {thread}\")\n",
    "        return thread\n",
    "    except APIError as e:\n",
    "        logging.error(f\"Error creating thread: {e}\")\n",
    "        return None\n",
    "    except Exception as e:\n",
    "        logging.error(f\"Unexpected error: {e}\")\n",
    "        return None"
   ]
  },
  {
   "cell_type": "markdown",
   "metadata": {},
   "source": [
    "Add a Message to a Thread"
   ]
  },
  {
   "cell_type": "code",
   "execution_count": null,
   "metadata": {},
   "outputs": [],
   "source": [
    "def add_message_to_thread(thread_id, message_content):\n",
    "    try:\n",
    "        message = client.beta.threads.messages.create(\n",
    "            thread_id=thread_id,\n",
    "            role=\"user\",\n",
    "            content=message_content\n",
    "        )\n",
    "        logging.info(f\"Message added to thread: {message}\")\n",
    "        return message\n",
    "    except APIError as e:\n",
    "        logging.error(f\"Error adding message to thread: {e}\")\n",
    "        return None\n",
    "    except Exception as e:\n",
    "        logging.error(f\"Unexpected error: {e}\")\n",
    "        return None"
   ]
  },
  {
   "cell_type": "markdown",
   "metadata": {},
   "source": [
    "Run the Assistant"
   ]
  },
  {
   "cell_type": "code",
   "execution_count": null,
   "metadata": {},
   "outputs": [],
   "source": [
    "def run_assistant(thread_id, assistant_id):\n",
    "    try:\n",
    "        run = client.beta.threads.runs.create(\n",
    "            thread_id=thread_id,\n",
    "            assistant_id=assistant_id\n",
    "        )\n",
    "        logging.info(f\"Run created: {run}\")\n",
    "        return run\n",
    "    except APIError as e:\n",
    "        logging.error(f\"Error running assistant: {e}\")\n",
    "        return None\n",
    "    except Exception as e:\n",
    "        logging.error(f\"Unexpected error: {e}\")\n",
    "        return None"
   ]
  },
  {
   "cell_type": "markdown",
   "metadata": {},
   "source": [
    "Retreive and Display the Assistant's Response"
   ]
  },
  {
   "cell_type": "code",
   "execution_count": null,
   "metadata": {},
   "outputs": [],
   "source": [
    "import time\n",
    "\n",
    "def display_assistant_response(thread_id, run):\n",
    "    try:\n",
    "        # Add a delay to allow the assistant to process\n",
    "        time.sleep(10)  # Increase the delay to ensure processing time\n",
    "\n",
    "        messages = client.beta.threads.messages.list(thread_id=thread_id)\n",
    "        for message in reversed(messages.data):\n",
    "            if message.role == \"assistant\":\n",
    "                for content in message.content:\n",
    "                    print(f\"Assistant: {content.text.value}\")\n",
    "                return\n",
    "        logging.info(\"No response from assistant.\")\n",
    "    except APIError as e:\n",
    "        logging.error(f\"Error retrieving messages: {e}\")\n",
    "    except Exception as e:\n",
    "        logging.error(f\"Unexpected error: {e}\")"
   ]
  },
  {
   "cell_type": "markdown",
   "metadata": {},
   "source": [
    "Example:"
   ]
  },
  {
   "cell_type": "code",
   "execution_count": null,
   "metadata": {},
   "outputs": [],
   "source": [
    "def main():\n",
    "    try:\n",
    "        thread = create_thread()\n",
    "        if thread:\n",
    "            user_input = input(\"Enter your gameplay data or question for analysis: \")\n",
    "            message = add_message_to_thread(thread.id, user_input)\n",
    "            if message:\n",
    "                run = run_assistant(thread.id, assistant.id)\n",
    "                if run:\n",
    "                    display_assistant_response(thread.id, run.id)\n",
    "            else:\n",
    "                logging.error(\"Failed to add message to thread\")\n",
    "        else:\n",
    "            logging.error(\"Failed to create thread\")\n",
    "    except Exception as e:\n",
    "        logging.error(f\"An error occurred in the main function: {e}\")\n",
    "\n",
    "if __name__ == \"__main__\":\n",
    "    main()"
   ]
  }
 ],
 "metadata": {
  "kernelspec": {
   "display_name": "Python 3",
   "language": "python",
   "name": "python3"
  },
  "language_info": {
   "codemirror_mode": {
    "name": "ipython",
    "version": 3
   },
   "file_extension": ".py",
   "mimetype": "text/x-python",
   "name": "python",
   "nbconvert_exporter": "python",
   "pygments_lexer": "ipython3",
   "version": "3.12.4"
  }
 },
 "nbformat": 4,
 "nbformat_minor": 2
}
