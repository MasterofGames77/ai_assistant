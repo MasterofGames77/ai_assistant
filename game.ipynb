{
 "cells": [
  {
   "cell_type": "code",
   "execution_count": 39,
   "metadata": {},
   "outputs": [
    {
     "name": "stdout",
     "output_type": "stream",
     "text": [
      "['C:\\\\Users\\\\mgamb\\\\AppData\\\\Local\\\\Programs\\\\Python\\\\Python312\\\\python312.zip', 'C:\\\\Users\\\\mgamb\\\\AppData\\\\Local\\\\Programs\\\\Python\\\\Python312\\\\DLLs', 'C:\\\\Users\\\\mgamb\\\\AppData\\\\Local\\\\Programs\\\\Python\\\\Python312\\\\Lib', 'C:\\\\Users\\\\mgamb\\\\AppData\\\\Local\\\\Programs\\\\Python\\\\Python312', 'c:\\\\Users\\\\mgamb\\\\DevAcc2024\\\\.venv', '', 'c:\\\\Users\\\\mgamb\\\\DevAcc2024\\\\.venv\\\\Lib\\\\site-packages', 'c:\\\\Users\\\\mgamb\\\\DevAcc2024\\\\.venv\\\\Lib\\\\site-packages\\\\win32', 'c:\\\\Users\\\\mgamb\\\\DevAcc2024\\\\.venv\\\\Lib\\\\site-packages\\\\win32\\\\lib', 'c:\\\\Users\\\\mgamb\\\\DevAcc2024\\\\.venv\\\\Lib\\\\site-packages\\\\Pythonwin']\n"
     ]
    }
   ],
   "source": [
    "import sys\n",
    "print(sys.path)"
   ]
  },
  {
   "cell_type": "code",
   "execution_count": 40,
   "metadata": {},
   "outputs": [],
   "source": [
    "from dotenv import load_dotenv\n",
    "import os\n",
    "\n",
    "from openai import OpenAI\n",
    "\n",
    "import requests\n",
    "\n",
    "# Load Environment Variables\n",
    "load_dotenv()\n",
    "api_key = os.getenv(\"OPENAI_API_KEY\")\n",
    "client = OpenAI(api_key=api_key)\n",
    "\n",
    "redirect_id = os.getenv(\"TWITCH_REDIRECT_URI\")\n",
    "twitch_client_id = os.getenv(\"TWITCH_CLIENT_ID\")\n",
    "twitch_access_token = os.getenv(\"TWITCH_TOKEN_URL\")\n",
    "\n",
    "URL = \"https://id.twitch.tv/oauth2/token\"\n",
    "\n",
    "# Check if credentials are present\n",
    "if not twitch_client_id or not twitch_access_token:\n",
    "    raise ValueError(\"Twitch credentials not found. Please set TWITCH_CLIENT_ID and TWITCH_ACCESS_TOKEN environment variables.\")"
   ]
  },
  {
   "cell_type": "code",
   "execution_count": 41,
   "metadata": {},
   "outputs": [],
   "source": [
    "# Check if environment variables are loaded\n",
    "if api_key is None:\n",
    "    raise ValueError(\"API key not found. Please set the OPENAI_API_KEY environment variable.\")\n",
    "if twitch_client_id is None or twitch_access_token is None:\n",
    "    raise ValueError(\"Twitch credentials not found. Please set the TWITCH_CLIENT_ID and TWITCH_ACCESS_TOKEN environment variables.\")"
   ]
  },
  {
   "cell_type": "code",
   "execution_count": 42,
   "metadata": {},
   "outputs": [],
   "source": [
    "# Set the headers\n",
    "headers = {\n",
    "    'Client-ID': twitch_client_id,\n",
    "    'Authorization': f'Bearer {twitch_access_token}',\n",
    "}"
   ]
  },
  {
   "cell_type": "code",
   "execution_count": 43,
   "metadata": {},
   "outputs": [],
   "source": [
    "# Make a request to IGDB API\n",
    "\n",
    "response = requests.post(\n",
    "    'https://api.igdb.com/v4/games',\n",
    "    headers=headers,\n",
    "    data='fields name,genres.name,platforms.name,release_dates.human; limit 10;'\n",
    ")"
   ]
  },
  {
   "cell_type": "code",
   "execution_count": 44,
   "metadata": {},
   "outputs": [
    {
     "name": "stdout",
     "output_type": "stream",
     "text": [
      "Failed to fetch data: 401, {\n",
      "  \"message\": \"Authorization Failure. Have you tried:\",\n",
      "  \"Tip 1\":   \"Ensure you are sending Authorization and Client-ID as headers.\",\n",
      "  \"Tip 2\":   \"Ensure Authorization value starts with 'Bearer ', including the space\",\n",
      "  \"Tip 3\":   \"Ensure Authorization value ends with the App Access Token you generated, NOT your Client Secret.\",\n",
      "  \"Docs\":    \"https://api-docs.igdb.com/#authentication\",\n",
      "  \"Discord\": \"https://discord.gg/igdb\"\n",
      "}\n",
      "\n"
     ]
    }
   ],
   "source": [
    "# Print the Response\n",
    "if response.status_code == 200:\n",
    "    games_data = response.json()\n",
    "    for game in games_data:\n",
    "        print(game)\n",
    "else:\n",
    "    print(f\"Failed to fetch data: {response.status_code}, {response.text}\")"
   ]
  },
  {
   "cell_type": "markdown",
   "metadata": {},
   "source": [
    "Check if API Key is loaded"
   ]
  },
  {
   "cell_type": "code",
   "execution_count": null,
   "metadata": {},
   "outputs": [],
   "source": [
    "if api_key is None:\n",
    "    raise ValueError(\"API key not found. Please set the OPENAI_API_KEY environment variable.\")"
   ]
  },
  {
   "cell_type": "markdown",
   "metadata": {},
   "source": [
    "Configure Logging"
   ]
  },
  {
   "cell_type": "code",
   "execution_count": null,
   "metadata": {},
   "outputs": [],
   "source": [
    "import logging\n",
    "logging.basicConfig(level=logging.INFO, format='%(asctime)s - %(levelname)s - %(message)s')"
   ]
  },
  {
   "cell_type": "markdown",
   "metadata": {},
   "source": [
    "AI Game Analytics "
   ]
  },
  {
   "cell_type": "code",
   "execution_count": null,
   "metadata": {},
   "outputs": [],
   "source": [
    "assistant = client.beta.assistants.create(\n",
    "    name=\"Video Game Expert\",\n",
    "    instructions=\"\"\"\n",
    "    You are an AI assistant specializing in video games. You can provide detailed analytics and insights into gameplay, helping players track their progress and identify areas for improvement. \n",
    "    You can answer questions about game completion times, strategies to progress past difficult sections, fastest speedrun times, and general tips and tricks.\n",
    "    For example:\n",
    "    - \"How long would it take to fully complete Super Mario Bros. on NES?\"\n",
    "    - \"How do I progress past the Water Temple in The Legend of Zelda: Ocarina of Time?\"\n",
    "    - \"What is the fastest speedrun time for Sonic the Hedgehog?\"\n",
    "    - \"Give me tips and tricks to improve my gameplay in Fortnite.\"\n",
    "    Use up-to-date information and provide the best possible answers to enhance the user's gaming experience.\n",
    "    \"\"\",\n",
    "    tools=[{\"type\": \"code_interpreter\"}],  # Add more tools if needed\n",
    "    model=\"gpt-4o\"\n",
    ")"
   ]
  },
  {
   "cell_type": "markdown",
   "metadata": {},
   "source": [
    "Create a Thred"
   ]
  },
  {
   "cell_type": "code",
   "execution_count": null,
   "metadata": {},
   "outputs": [],
   "source": [
    "from openai import APIError\n",
    "\n",
    "def create_thread():\n",
    "    try:\n",
    "        thread = client.beta.threads.create()\n",
    "        logging.info(f\"Thread created: {thread}\")\n",
    "        return thread\n",
    "    except APIError as e:\n",
    "        logging.error(f\"Error creating thread: {e}\")\n",
    "        return None\n",
    "    except Exception as e:\n",
    "        logging.error(f\"Unexpected error: {e}\")\n",
    "        return None"
   ]
  },
  {
   "cell_type": "markdown",
   "metadata": {},
   "source": [
    "Add a Message to a Thread"
   ]
  },
  {
   "cell_type": "code",
   "execution_count": null,
   "metadata": {},
   "outputs": [],
   "source": [
    "def add_message_to_thread(thread_id, message_content):\n",
    "    try:\n",
    "        message = client.beta.threads.messages.create(\n",
    "            thread_id=thread_id,\n",
    "            role=\"user\",\n",
    "            content=message_content\n",
    "        )\n",
    "        logging.info(f\"Message added to thread: {message}\")\n",
    "        return message\n",
    "    except APIError as e:\n",
    "        logging.error(f\"Error adding message to thread: {e}\")\n",
    "        return None\n",
    "    except Exception as e:\n",
    "        logging.error(f\"Unexpected error: {e}\")\n",
    "        return None"
   ]
  },
  {
   "cell_type": "markdown",
   "metadata": {},
   "source": [
    "Run the Assistant"
   ]
  },
  {
   "cell_type": "code",
   "execution_count": null,
   "metadata": {},
   "outputs": [],
   "source": [
    "def run_assistant(thread_id, assistant_id):\n",
    "    try:\n",
    "        run = client.beta.threads.runs.create(\n",
    "            thread_id=thread_id,\n",
    "            assistant_id=assistant_id\n",
    "        )\n",
    "        logging.info(f\"Run created: {run}\")\n",
    "        return run\n",
    "    except APIError as e:\n",
    "        logging.error(f\"Error running assistant: {e}\")\n",
    "        return None\n",
    "    except Exception as e:\n",
    "        logging.error(f\"Unexpected error: {e}\")\n",
    "        return None"
   ]
  },
  {
   "cell_type": "markdown",
   "metadata": {},
   "source": [
    "Retreive and Display the Assistant's Response"
   ]
  },
  {
   "cell_type": "code",
   "execution_count": null,
   "metadata": {},
   "outputs": [],
   "source": [
    "import time\n",
    "\n",
    "def display_assistant_response(thread_id, run_id):\n",
    "    try:\n",
    "        # Add a delay to allow the assistant to process\n",
    "        time.sleep(5)  # Increase the delay to ensure processing time\n",
    "\n",
    "        messages = client.beta.threads.messages.list(thread_id=thread_id)\n",
    "        for message in reversed(messages.data):\n",
    "            if message.role == \"assistant\":\n",
    "                for content in message.content:\n",
    "                    print(f\"Assistant: {content.text.value}\")\n",
    "                return\n",
    "        logging.info(\"No response from assistant.\")\n",
    "    except APIError as e:\n",
    "        logging.error(f\"Error retrieving messages: {e}\")\n",
    "    except Exception as e:\n",
    "        logging.error(f\"Unexpected error: {e}\")"
   ]
  },
  {
   "cell_type": "markdown",
   "metadata": {},
   "source": [
    "Example:"
   ]
  },
  {
   "cell_type": "code",
   "execution_count": null,
   "metadata": {},
   "outputs": [],
   "source": [
    "thread = create_thread()\n",
    "if thread:\n",
    "    user_input = input(\"Enter your gameplay data or question for analysis: \")\n",
    "    message = add_message_to_thread(thread.id, user_input)\n",
    "    if message:\n",
    "        run = run_assistant(thread.id, assistant.id)\n",
    "        if run:\n",
    "            display_assistant_response(thread.id, run.id)"
   ]
  }
 ],
 "metadata": {
  "kernelspec": {
   "display_name": "Python 3",
   "language": "python",
   "name": "python3"
  },
  "language_info": {
   "codemirror_mode": {
    "name": "ipython",
    "version": 3
   },
   "file_extension": ".py",
   "mimetype": "text/x-python",
   "name": "python",
   "nbconvert_exporter": "python",
   "pygments_lexer": "ipython3",
   "version": "3.12.4"
  }
 },
 "nbformat": 4,
 "nbformat_minor": 2
}
