{
 "cells": [
  {
   "cell_type": "code",
   "execution_count": null,
   "metadata": {},
   "outputs": [],
   "source": [
    "import sys\n",
    "print(sys.path)\n",
    "import os\n",
    "import requests\n",
    "import logging\n",
    "from dotenv import load_dotenv\n",
    "from pymongo import MongoClient\n",
    "from openai import OpenAI\n",
    "import datetime\n",
    "import pandas as pd\n",
    "\n",
    "# Load environment variables\n",
    "load_dotenv()\n",
    "\n",
    "# Retrieve environment variables\n",
    "openai_api_key = os.getenv(\"OPENAI_API_KEY\")\n",
    "rawg_api_key = os.getenv(\"RAWG_API_KEY\")\n",
    "twitch_client_id = os.getenv(\"TWITCH_CLIENT_ID\")\n",
    "twitch_client_secret = os.getenv(\"TWITCH_CLIENT_SECRET\")\n",
    "twitch_token_url = os.getenv(\"TWITCH_TOKEN_URL\")\n",
    "mongo_uri = os.getenv(\"MONGODB_URI\")\n",
    "\n",
    "client = OpenAI(api_key=openai_api_key)"
   ]
  },
  {
   "cell_type": "markdown",
   "metadata": {},
   "source": [
    "Ensure Variables are Loaded Correctly"
   ]
  },
  {
   "cell_type": "code",
   "execution_count": null,
   "metadata": {},
   "outputs": [],
   "source": [
    "if not all([openai_api_key, rawg_api_key, twitch_client_id, twitch_client_secret, twitch_token_url, mongo_uri]):\n",
    "    raise ValueError(\"One or more environment variables are missing or not set correctly\")"
   ]
  },
  {
   "cell_type": "markdown",
   "metadata": {},
   "source": [
    "Configure Logging"
   ]
  },
  {
   "cell_type": "code",
   "execution_count": null,
   "metadata": {},
   "outputs": [],
   "source": [
    "logging.basicConfig(level=logging.INFO, format='%(asctime)s - %(levelname)s - %(message)s')"
   ]
  },
  {
   "cell_type": "markdown",
   "metadata": {},
   "source": [
    "Connect to MongoDB"
   ]
  },
  {
   "cell_type": "code",
   "execution_count": null,
   "metadata": {},
   "outputs": [],
   "source": [
    "mongo_client = MongoClient(mongo_uri)\n",
    "db = mongo_client[\"Wingman\"]\n",
    "user_id_collection = db[\"userID\"]\n",
    "questions_collection = db[\"question\"]"
   ]
  },
  {
   "cell_type": "markdown",
   "metadata": {},
   "source": [
    "Load the CSV Files"
   ]
  },
  {
   "cell_type": "code",
   "execution_count": null,
   "metadata": {},
   "outputs": [],
   "source": [
    "video_games_df = pd.read_csv('data/Video Games Data.csv')\n",
    "data_dictionary_df = pd.read_csv('data/vg_data_dictionary.csv')"
   ]
  },
  {
   "cell_type": "markdown",
   "metadata": {},
   "source": [
    "Search Games by Genre"
   ]
  },
  {
   "cell_type": "code",
   "execution_count": null,
   "metadata": {},
   "outputs": [],
   "source": [
    "def search_games_by_genre(genre):\n",
    "    results = video_games_df[video_games_df['Genre'].str.contains(genre, case=False, na=False)]\n",
    "    return results"
   ]
  },
  {
   "cell_type": "markdown",
   "metadata": {},
   "source": [
    "Search Games by Name"
   ]
  },
  {
   "cell_type": "code",
   "execution_count": null,
   "metadata": {},
   "outputs": [],
   "source": [
    "def search_game_by_name(game_name):\n",
    "    results = video_games_df[video_games_df['title'].str.contains(game_name, case=False)]\n",
    "    return results"
   ]
  },
  {
   "cell_type": "markdown",
   "metadata": {},
   "source": [
    "Get Access Token"
   ]
  },
  {
   "cell_type": "code",
   "execution_count": null,
   "metadata": {},
   "outputs": [],
   "source": [
    "import time\n",
    "import datetime\n",
    "\n",
    "token_info = {\"access_token\": None, \"expires_at\": None}\n",
    "\n",
    "def get_access_token():\n",
    "    \"\"\" Fetch access token using Twitch credentials. \"\"\"\n",
    "    data = {\n",
    "        'client_id': twitch_client_id,\n",
    "        'client_secret': twitch_client_secret,\n",
    "        'grant_type': 'client_credentials'\n",
    "    }\n",
    "    response = requests.post(twitch_token_url, data=data)\n",
    "    response.raise_for_status()\n",
    "    token_data = response.json()\n",
    "    expires_in = token_data['expires_in']\n",
    "    token_info['access_token'] = token_data['access_token']\n",
    "    token_info['expires_at'] = datetime.datetime.now() + datetime.timedelta(seconds=expires_in)\n",
    "    logging.info(\"New access token fetched and stored.\")\n",
    "\n",
    "def check_token():\n",
    "    \"\"\" Check if the token is expired and refresh it if needed. \"\"\"\n",
    "    if token_info['expires_at'] is None or token_info['expires_at'] <= datetime.datetime.now():\n",
    "        logging.info(\"Token has expired, fetching a new one...\")\n",
    "        get_access_token()\n",
    "    else:\n",
    "        logging.info(\"Token is still valid.\")\n",
    "\n",
    "# Example usage\n",
    "try:\n",
    "    # Always check the token before making a request\n",
    "    check_token()\n",
    "    access_token = token_info['access_token']\n",
    "    if access_token:\n",
    "        print(f\"Using access token: {access_token}\")\n",
    "        # Proceed with using the access token for API requests\n",
    "    else:\n",
    "        print(\"Failed to obtain access token.\")\n",
    "except Exception as e:\n",
    "    print(f\"Error obtaining or using access token: {e}\")\n",
    "\n",
    "print(\"Token URL:\", twitch_token_url)"
   ]
  },
  {
   "cell_type": "markdown",
   "metadata": {},
   "source": [
    "Make a Request to IGDB API"
   ]
  },
  {
   "cell_type": "code",
   "execution_count": null,
   "metadata": {},
   "outputs": [],
   "source": [
    "def fetch_igdb_data(access_token, client_id):\n",
    "    headers = {\n",
    "        'Client-ID': client_id,\n",
    "        'Authorization': f'Bearer {access_token}',\n",
    "    }\n",
    "    response = requests.post(\n",
    "        'https://api.igdb.com/v4/games',\n",
    "        headers=headers,\n",
    "        data='fields name,genres.name,platforms.name,release_dates.human; limit 10;'\n",
    "    )\n",
    "    if response.status_code == 200:\n",
    "        return response.json()\n",
    "    else:\n",
    "        raise Exception(f\"Failed to fetch data: {response.status_code}, {response.text}\")"
   ]
  },
  {
   "cell_type": "markdown",
   "metadata": {},
   "source": [
    "Fetch Game data from RAWG API"
   ]
  },
  {
   "cell_type": "code",
   "execution_count": null,
   "metadata": {},
   "outputs": [],
   "source": [
    "def fetch_games_from_rawg(search_query):\n",
    "    # Fetch the RAWG API key directly from environment variables within the function\n",
    "    rawg_api_key = os.getenv(\"RAWG_API_KEY\")\n",
    "    # Construct the URL with the API key and the search query properly included\n",
    "    url = f\"https://api.rawg.io/api/games?key={rawg_api_key}&search={search_query}\"\n",
    "    # Use a GET request to fetch data\n",
    "    response = requests.get(url)\n",
    "    # Check the response status and handle accordingly\n",
    "    if response.status_code == 200:\n",
    "        return response.json()['results']  # Make sure to return the results part of the JSON\n",
    "    else:\n",
    "        raise Exception(f\"Failed to fetch data: {response.status_code}, {response.text}\")"
   ]
  },
  {
   "cell_type": "markdown",
   "metadata": {},
   "source": [
    "Fetch Data from both RAWG, IGDB and CSV Files"
   ]
  },
  {
   "cell_type": "code",
   "execution_count": null,
   "metadata": {},
   "outputs": [],
   "source": [
    "def fetch_data_from_all_sources(game_name):\n",
    "    try:\n",
    "        check_token()\n",
    "        access_token = token_info['access_token']\n",
    "        \n",
    "        rawg_data = fetch_games_from_rawg(game_name)\n",
    "        igdb_data = fetch_igdb_data(access_token, twitch_client_id)\n",
    "        \n",
    "        # Assuming search_game_by_name is commented out for now, as per your request\n",
    "        # csv_data = search_game_by_name(game_name)\n",
    "        # csv_games = [f\"{row['title']} (Released: {row['release_date']}, Platforms: {row['console']}, Genres: {row['genre']})\" for index, row in csv_data.iterrows()]\n",
    "\n",
    "        rawg_games = [\n",
    "            f\"{game['name']} (Released: {game['released']}, Platforms: {game['platforms']}, Genres: {game['genres']})\"\n",
    "            for game in rawg_data\n",
    "        ]\n",
    "        \n",
    "        igdb_games = [\n",
    "            f\"{game['name']} (Released: {game['release_dates'][0]['date'] if game.get('release_dates') else 'Unknown'}, Platforms: {', '.join([platform['name'] for platform in game.get('platforms', [])])}, Genres: {', '.join([genre['name'] for genre in game.get('genres', [])])})\"\n",
    "            for game in igdb_data\n",
    "        ]\n",
    "        \n",
    "        # Combine responses into a single output\n",
    "        combined_response = \"\"\n",
    "        \n",
    "        if rawg_games:\n",
    "            combined_response += f\"Based on your interest in {game_name}, here are some games you might enjoy from RAWG:\\n\" + \"\\n\".join(rawg_games[:10]) + \"\\n\"\n",
    "        \n",
    "        if igdb_games:\n",
    "            combined_response += f\"\\nFrom IGDB, you might also like:\\n\" + \"\\n\".join(igdb_games[:10]) + \"\\n\"\n",
    "        \n",
    "        # If CSV data were to be used\n",
    "        # if csv_games:\n",
    "        #     combined_response += f\"\\nFrom our CSV dataset, you might also like:\\n\" + \"\\n\".join(csv_games[:10]) + \"\\n\"\n",
    "        \n",
    "        # Handle case when no relevant data is found\n",
    "        if not combined_response.strip():\n",
    "            combined_response = \"No relevant game information found in any database.\"\n",
    "        \n",
    "        return combined_response\n",
    "    \n",
    "    except Exception as e:\n",
    "        logging.error(f\"Error fetching data from APIs: {e}\")\n",
    "        return \"Failed to fetch data due to an error.\""
   ]
  },
  {
   "cell_type": "markdown",
   "metadata": {},
   "source": [
    "Check if API Key is loaded"
   ]
  },
  {
   "cell_type": "code",
   "execution_count": null,
   "metadata": {},
   "outputs": [],
   "source": [
    "if openai_api_key is None:\n",
    "    raise ValueError(\"API key not found. Please set the OPENAI_API_KEY environment variable.\")"
   ]
  },
  {
   "cell_type": "markdown",
   "metadata": {},
   "source": [
    "AI Game Analytics "
   ]
  },
  {
   "cell_type": "code",
   "execution_count": null,
   "metadata": {},
   "outputs": [],
   "source": [
    "def setup_openai_assistant():\n",
    "    try:\n",
    "        assistant = client.beta.assistants.create(\n",
    "            name=\"Video Game Analytics Assistant\",\n",
    "            instructions=\"\"\"\n",
    "            You are an AI assistant specializing in video games. You can provide detailed analytics and insights into gameplay, helping players track their progress and identify areas for improvement. \n",
    "            You can answer questions about game completion times, strategies to progress past difficult sections, fastest speedrun times, and general tips and tricks.\n",
    "            For example:\n",
    "            - \"How long would it take to fully complete Super Mario Bros. on NES?\"\n",
    "            - \"How do I progress past the Water Temple in The Legend of Zelda: Ocarina of Time?\"\n",
    "            - \"What is the fastest speedrun time for Sonic the Hedgehog?\"\n",
    "            - \"Give me tips and tricks to improve my gameplay in Fortnite.\"\n",
    "            - \"Give me a guide on how to clear Chapter 3 in Paper Mario: The Thousand Year Door.\"\n",
    "            - \"What is the best strategy for completing Shrines in The Legend of Zelda: Breath of the Wild?\"\n",
    "            - \"What games in terms of genre are similar to Super Metroid?\"\n",
    "            - \"What games could you recommend to someone who is playing a Role-Playing Game for the first time?\"\n",
    "            - \"What types of games are you familiar with?\"\n",
    "            -\" What are some of the biggest challenges impacting the Global Video Game Industry?\n",
    "            Use up-to-date information and provide the best possible answers to enhance the user's gaming experience.\n",
    "            \"\"\",\n",
    "            tools=[{\"type\": \"code_interpreter\"}],  # Add more tools if needed\n",
    "            model=\"gpt-4o\"\n",
    "        )\n",
    "        return assistant\n",
    "    except Exception as e:\n",
    "        logging.error(f\"Failed to create assistant: {e}\")\n",
    "        return None"
   ]
  },
  {
   "cell_type": "markdown",
   "metadata": {},
   "source": [
    "Create a Thred"
   ]
  },
  {
   "cell_type": "code",
   "execution_count": null,
   "metadata": {},
   "outputs": [],
   "source": [
    "from openai import APIError\n",
    "\n",
    "def create_thread():\n",
    "    try:\n",
    "        thread = client.beta.threads.create()\n",
    "        logging.info(f\"Thread created: {thread}\")\n",
    "        return thread\n",
    "    except APIError as e:\n",
    "        logging.error(f\"Error creating thread: {e}\")\n",
    "        return None\n",
    "    except Exception as e:\n",
    "        logging.error(f\"Unexpected error: {e}\")\n",
    "        return None"
   ]
  },
  {
   "cell_type": "markdown",
   "metadata": {},
   "source": [
    "Add a Message to a Thread"
   ]
  },
  {
   "cell_type": "code",
   "execution_count": null,
   "metadata": {},
   "outputs": [],
   "source": [
    "def add_message_to_thread(thread_id, message_content):\n",
    "    try:\n",
    "        message = client.beta.threads.messages.create(\n",
    "            thread_id=thread_id,\n",
    "            role=\"user\",\n",
    "            content=message_content\n",
    "        )\n",
    "        logging.info(f\"Message added to thread: {message}\")\n",
    "        return message\n",
    "    except Exception as e:\n",
    "        logging.error(f\"Error adding message to thread: {e}\")\n",
    "        return None"
   ]
  },
  {
   "cell_type": "markdown",
   "metadata": {},
   "source": [
    "Run the Assistant"
   ]
  },
  {
   "cell_type": "code",
   "execution_count": null,
   "metadata": {},
   "outputs": [],
   "source": [
    "def run_assistant(thread_id, assistant_id):\n",
    "    try:\n",
    "        run = client.beta.threads.runs.create(\n",
    "            thread_id=thread_id,\n",
    "            assistant_id=assistant_id\n",
    "        )\n",
    "        logging.info(f\"Run created: {run}\")\n",
    "        return run\n",
    "    except Exception as e:\n",
    "        logging.error(f\"Error running assistant: {e}\")\n",
    "        return None"
   ]
  },
  {
   "cell_type": "markdown",
   "metadata": {},
   "source": [
    "Retreive and Display the Assistant's Response"
   ]
  },
  {
   "cell_type": "code",
   "execution_count": null,
   "metadata": {},
   "outputs": [],
   "source": [
    "import time\n",
    "\n",
    "def display_assistant_response(thread_id, run_id):\n",
    "    try:\n",
    "        time.sleep(15)  # Increase delay to allow more processing time\n",
    "        messages = client.beta.threads.messages.list(thread_id=thread_id)\n",
    "        for message in reversed(messages.data):\n",
    "            if message.role == \"assistant\":\n",
    "                logging.info(f\"Full Assistant Message: {message}\")  # Log the full message for debugging\n",
    "                if message.content and message.content[0].text and message.content[0].text.value:\n",
    "                    response = message.content[0].text.value\n",
    "                    logging.info(f\"Assistant: {response}\")\n",
    "                    return response\n",
    "                else:\n",
    "                    logging.info(\"Assistant message does not have the expected content format.\")\n",
    "        logging.info(\"No response from assistant.\")\n",
    "    except Exception as e:\n",
    "        logging.error(f\"Error retrieving messages: {e}\")"
   ]
  },
  {
   "cell_type": "markdown",
   "metadata": {},
   "source": [
    "Get or Create User in MongoDB"
   ]
  },
  {
   "cell_type": "code",
   "execution_count": null,
   "metadata": {},
   "outputs": [],
   "source": [
    "def get_or_create_user(user_id):\n",
    "    user = user_id_collection.find_one({\"userId\": user_id})\n",
    "    if not user:\n",
    "        user = {\n",
    "            \"userId\": user_id,\n",
    "            \"conversations\": []\n",
    "        }\n",
    "        user_id_collection.insert_one(user)\n",
    "    return user"
   ]
  },
  {
   "cell_type": "markdown",
   "metadata": {},
   "source": [
    "Save Interaction in MongoDB"
   ]
  },
  {
   "cell_type": "code",
   "execution_count": null,
   "metadata": {},
   "outputs": [],
   "source": [
    "def save_interaction(user_id, question, response):\n",
    "    interaction = {\n",
    "        \"userId\": user_id,\n",
    "        \"question\": question,\n",
    "        \"response\": response,\n",
    "        \"timestamp\": datetime.datetime.now()\n",
    "    }\n",
    "    questions_collection.insert_one(interaction)\n",
    "    user_id_collection.update_one(\n",
    "        {\"userId\": user_id},\n",
    "        {\"$push\": {\"conversations\": interaction}},\n",
    "        upsert=True\n",
    "    )"
   ]
  },
  {
   "cell_type": "markdown",
   "metadata": {},
   "source": [
    "Retrieve and Analyze Previous Interactions"
   ]
  },
  {
   "cell_type": "code",
   "execution_count": null,
   "metadata": {},
   "outputs": [],
   "source": [
    "import re\n",
    "\n",
    "def get_previous_interactions(user_id):\n",
    "    user = user_id_collection.find_one({\"userId\": user_id})\n",
    "    if user and \"conversations\" in user:\n",
    "        return user[\"conversations\"]\n",
    "    return []\n",
    "\n",
    "# Generate Recommendations Based on Previous Interactions\n",
    "def generate_recommendations(previous_interactions):\n",
    "    recommendations = []\n",
    "    keywords = {\n",
    "        \"role-playing game\": \"Try playing 'Final Fantasy VII'\",\n",
    "        \"rpg\": \"Try playing 'Paper Mario: The Thousand-Year Door'\",\n",
    "        \"action-adventure\": \"Try playing 'The Elder Scrolls V: Skyrim'\",\n",
    "        \"hack and slash\": \"You might enjoy 'Devil May Cry 3'\",\n",
    "        \"action rpg\": \"Try playing 'Xenoblade Chronicles'\",\n",
    "        \"battle royale\": \"Try playing 'Fortnite'\",\n",
    "        \"platformer\": \"Try playing 'Super Mario 64'\",\n",
    "        \"survival horror\": \"Try playing 'Resident Evil 4'\",\n",
    "        \"third-person shooter\": \"Try playing 'Splatoon 3'\",\n",
    "        \"metroidvania\": \"Try playing 'Castlevania: Symphony of the Night'\",\n",
    "        \"first-person shooter\": \"Try playing 'Bioshock Infinite'\",\n",
    "        \"sandbox\": \"Try playing 'Minecraft'\",\n",
    "        \"roguelike\": \"Try playing 'Hades'\",\n",
    "        \"social simulation\": \"Try playing 'Animal Crossing: New Horizons'\",\n",
    "        \"mmo\": \"Try playing 'Runescape'\",\n",
    "        \"massively multiplayer online role-playing game\": \"Try playing 'World of Warcraft'\",\n",
    "        \"moba\": \"Try playing 'League of Legends'\",\n",
    "        \"multiplayer online battle arena\": \"Try playing 'Dota 2'\",\n",
    "        \"puzzle-platformer\": \"Try playing 'Portal'\",\n",
    "        \"fighting game\": \"Try playing 'Super Smash Bros. Ultimate'\",\n",
    "        \"tactical role-playing game\": \"Try playing 'Fire Emblem: Awakening'\",\n",
    "        \"tower defense\": \"Try playing 'Bloons TD 6'\",\n",
    "        \"racing\": \"Try playing 'Forza Horizon 5'\",\n",
    "        \"kart racing\": \"Try playing 'Mario Kart 8 Deluxe'\",\n",
    "        \"rail shooter\": \"Try playing 'Star Fox 64'\",\n",
    "        \"stealth\": \"Try playing 'Metal Gear Solid'\",\n",
    "        \"run and gun\": \"Try playing 'Cuphead'\",\n",
    "        \"turn-based strategy\": \"Try playing 'Advance Wars'\",\n",
    "        \"4x\": \"Try playing 'Sid Meier's Civilization VI'\",\n",
    "        \"sports\": \"Try playing 'Fifa 18'\",\n",
    "        \"party\": \"Try playing 'Mario Party Superstars'\",\n",
    "        \"rhythm\": \"Try playing 'Rock Band'\",\n",
    "        \"point and click\": \"Try playing 'Five Night's at Freddy's'\",\n",
    "        \"visual novel\": \"Try playing 'Phoenix Wright: Ace Attorney'\",\n",
    "        \"real-time strategy\": \"Try playing 'Command & Conquer'\",\n",
    "        \"beat 'em up\": \"Try playing 'Streets of Rage 4'\",\n",
    "        \"puzzle\": \"Try playing 'Tetris'\",\n",
    "        \"turn-based tactics\": \"Try playing 'XCOM: Enemy Unknown'\",\n",
    "        \"interactive story\": \"Try playing 'The Stanley Parable'\",\n",
    "        \"maze\": \"Try playing 'Pac-Man'\",\n",
    "        \"game creation system\": \"Try playing 'Roblox'\",\n",
    "        \"level editor\": \"Try playing 'Super Mario Maker'\",\n",
    "        \"endless runner\": \"Try playing 'Temple Run'\",\n",
    "        \"digital collectible card game\": \"Try playing 'Yu-Gi-Oh! Master Duel'\",\n",
    "        \"exergaming\": \"Try playing 'Wii Fit'\",\n",
    "        \"immersive sim\": \"Try playing 'Deathloop'\",\n",
    "        \"tile-matching\": \"Try playing 'Bejeweled'\",\n",
    "        \"text based\": \"Try playing 'The Oregon Trail'\",\n",
    "        \"augmented reality\": \"Try playing 'Pokémon Go'\",\n",
    "        \"action-adventure\": \"Try playing 'The Last of Us'\"\n",
    "    }\n",
    "\n",
    "    for interaction in previous_interactions:\n",
    "        for keyword, recommendation in keywords.items():\n",
    "            if re.search(keyword, interaction[\"question\"], re.IGNORECASE):\n",
    "                if recommendation not in recommendations:\n",
    "                    recommendations.append(recommendation)\n",
    "    \n",
    "    return recommendations"
   ]
  },
  {
   "cell_type": "markdown",
   "metadata": {},
   "source": [
    "Generate Response:"
   ]
  },
  {
   "cell_type": "code",
   "execution_count": null,
   "metadata": {},
   "outputs": [],
   "source": [
    "def main():\n",
    "    try:\n",
    "        assistant = setup_openai_assistant()\n",
    "        if assistant is None:\n",
    "            raise Exception(\"Assistant could not be created.\")\n",
    "\n",
    "        user_id = input(\"Enter your user ID: \")\n",
    "        question = input(\"Enter your gameplay data or question for analysis: \")\n",
    "\n",
    "        # Get or create user in MongoDB\n",
    "        user = get_or_create_user(user_id)\n",
    "        \n",
    "        thread = create_thread()\n",
    "        if thread:\n",
    "            if \"similar to\" in question.lower():\n",
    "                game_name = question.split(\"similar to \")[1].strip()\n",
    "                response = fetch_data_from_all_sources(game_name)\n",
    "                print(response)\n",
    "                save_interaction(user_id, question, response)\n",
    "            elif \"genre\" in question.lower():\n",
    "                genre = question.split(\"genre \")[1].strip()\n",
    "                response = fetch_data_from_all_sources(genre)  # Use the generalized fetch function\n",
    "                print(response)\n",
    "                save_interaction(user_id, question, response)\n",
    "            else:\n",
    "                # For all other types of questions\n",
    "                message = add_message_to_thread(thread.id, question)\n",
    "                if message:\n",
    "                    run = run_assistant(thread.id, assistant.id)\n",
    "                    if run:\n",
    "                        response = display_assistant_response(thread.id, run.id)\n",
    "                        if response:\n",
    "                            save_interaction(user_id, question, response)\n",
    "                        else:\n",
    "                            # If the assistant fails to provide a response, fetch from other sources\n",
    "                            response = fetch_data_from_all_sources(question)\n",
    "                            print(response)\n",
    "                            save_interaction(user_id, question, response)\n",
    "                    else:\n",
    "                        logging.error(\"Failed to run assistant\")\n",
    "                else:\n",
    "                    logging.error(\"Failed to add message to thread\")\n",
    "        else:\n",
    "            logging.error(\"Failed to create thread\")\n",
    "\n",
    "        # Retrieve and analyze previous interactions\n",
    "        previous_interactions = get_previous_interactions(user_id)\n",
    "        recommendations = generate_recommendations(previous_interactions)\n",
    "        if recommendations:\n",
    "            recommendations_str = \", \".join(recommendations)\n",
    "            print(f\"Recommendations based on your previous interactions: {recommendations_str}\")\n",
    "\n",
    "    except Exception as e:\n",
    "        logging.error(f\"An error occurred in the main function: {e}\")\n",
    "\n",
    "if __name__ == \"__main__\":\n",
    "    main()"
   ]
  }
 ],
 "metadata": {
  "kernelspec": {
   "display_name": "Python 3",
   "language": "python",
   "name": "python3"
  },
  "language_info": {
   "codemirror_mode": {
    "name": "ipython",
    "version": 3
   },
   "file_extension": ".py",
   "mimetype": "text/x-python",
   "name": "python",
   "nbconvert_exporter": "python",
   "pygments_lexer": "ipython3",
   "version": "3.12.4"
  }
 },
 "nbformat": 4,
 "nbformat_minor": 2
}
