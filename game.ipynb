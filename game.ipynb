{
 "cells": [
  {
   "cell_type": "code",
   "execution_count": null,
   "metadata": {},
   "outputs": [],
   "source": [
    "import sys\n",
    "print(sys.path)"
   ]
  },
  {
   "cell_type": "code",
   "execution_count": null,
   "metadata": {},
   "outputs": [],
   "source": [
    "from dotenv import load_dotenv\n",
    "import os\n",
    "import requests\n",
    "import logging\n",
    "from openai import OpenAI\n",
    "\n",
    "# Load environment variables\n",
    "load_dotenv()\n",
    "api_key = os.getenv(\"OPENAI_API_KEY\")\n",
    "client = OpenAI(api_key=api_key)\n",
    "\n",
    "twitch_client_id = os.getenv(\"TWITCH_CLIENT_ID\")\n",
    "twitch_client_secret = os.getenv(\"TWITCH_CLIENT_SECRET\")\n",
    "twitch_token_url = \"https://id.twitch.tv/oauth2/token\""
   ]
  },
  {
   "cell_type": "markdown",
   "metadata": {},
   "source": [
    "Ensure Variables are Loaded Correctly"
   ]
  },
  {
   "cell_type": "code",
   "execution_count": null,
   "metadata": {},
   "outputs": [],
   "source": [
    "if not all([api_key, twitch_client_id, twitch_client_secret, twitch_token_url]):\n",
    "    raise ValueError(\"One or more environment variables are missing or not set correctly\")"
   ]
  },
  {
   "cell_type": "markdown",
   "metadata": {},
   "source": [
    "Configure Logging"
   ]
  },
  {
   "cell_type": "code",
   "execution_count": null,
   "metadata": {},
   "outputs": [],
   "source": [
    "# Configure Logging\n",
    "logging.basicConfig(level=logging.INFO, format='%(asctime)s - %(levelname)s - %(message)s')"
   ]
  },
  {
   "cell_type": "markdown",
   "metadata": {},
   "source": [
    "Get Access Token"
   ]
  },
  {
   "cell_type": "code",
   "execution_count": null,
   "metadata": {},
   "outputs": [],
   "source": [
    "def get_access_token(client_id, client_secret, token_url):\n",
    "    params = {\n",
    "        'client_id': client_id,\n",
    "        'client_secret': client_secret,\n",
    "        'grant_type': 'client_credentials'\n",
    "    }\n",
    "    try:\n",
    "        response = requests.post(token_url, params=params)\n",
    "        response.raise_for_status()  # Raise an exception for bad status codes\n",
    "        return response.json().get('access_token')\n",
    "    except requests.exceptions.HTTPError as http_err:\n",
    "        logging.error(f\"HTTP error occurred: {http_err}\")\n",
    "        raise\n",
    "    except Exception as err:\n",
    "        logging.error(f\"Other error occurred: {err}\")\n",
    "        raise\n",
    "\n",
    "# Example usage to get the access token\n",
    "try:\n",
    "    access_token = get_access_token(twitch_client_id, twitch_client_secret, twitch_token_url)\n",
    "    logging.info(f\"Access token obtained: {access_token}\")\n",
    "except Exception as e:\n",
    "    logging.error(f\"Error obtaining access token: {e}\")\n",
    "    raise\n",
    "\n",
    "print(\"Token URL:\", twitch_token_url)"
   ]
  },
  {
   "cell_type": "markdown",
   "metadata": {},
   "source": [
    "Make a Request to IGDB API"
   ]
  },
  {
   "cell_type": "code",
   "execution_count": null,
   "metadata": {},
   "outputs": [],
   "source": [
    "def fetch_igdb_data(access_token, client_id):\n",
    "    headers = {\n",
    "        'Client-ID': client_id,\n",
    "        'Authorization': f'Bearer {access_token}',\n",
    "    }\n",
    "    response = requests.post(\n",
    "        'https://api.igdb.com/v4/games',\n",
    "        headers=headers,\n",
    "        data='fields name,genres.name,platforms.name,release_dates.human; limit 10;'\n",
    "    )\n",
    "    if response.status_code == 200:\n",
    "        return response.json()\n",
    "    else:\n",
    "        raise Exception(f\"Failed to fetch data: {response.status_code}, {response.text}\")\n",
    "\n",
    "# Fetch IGDB data\n",
    "try:\n",
    "    games_data = fetch_igdb_data(access_token, twitch_client_id)\n",
    "    for game in games_data:\n",
    "        print(game)\n",
    "except Exception as e:\n",
    "    logging.error(f\"Error fetching IGDB data: {e}\")"
   ]
  },
  {
   "cell_type": "markdown",
   "metadata": {},
   "source": [
    "Check if API Key is loaded"
   ]
  },
  {
   "cell_type": "code",
   "execution_count": null,
   "metadata": {},
   "outputs": [],
   "source": [
    "if api_key is None:\n",
    "    raise ValueError(\"API key not found. Please set the OPENAI_API_KEY environment variable.\")"
   ]
  },
  {
   "cell_type": "markdown",
   "metadata": {},
   "source": [
    "AI Game Analytics "
   ]
  },
  {
   "cell_type": "code",
   "execution_count": null,
   "metadata": {},
   "outputs": [],
   "source": [
    "assistant = client.beta.assistants.create(\n",
    "    name=\"Video Game Expert\",\n",
    "    instructions=\"\"\"\n",
    "    You are an AI assistant specializing in video games. You can provide detailed analytics and insights into gameplay, helping players track their progress and identify areas for improvement. \n",
    "    You can answer questions about game completion times, strategies to progress past difficult sections, fastest speedrun times, and general tips and tricks.\n",
    "    For example:\n",
    "    - \"How long would it take to fully complete Super Mario Bros. on NES?\"\n",
    "    - \"How do I progress past the Water Temple in The Legend of Zelda: Ocarina of Time?\"\n",
    "    - \"What is the fastest speedrun time for Sonic the Hedgehog?\"\n",
    "    - \"Give me tips and tricks to improve my gameplay in Fortnite.\"\n",
    "    Use up-to-date information and provide the best possible answers to enhance the user's gaming experience.\n",
    "    \"\"\",\n",
    "    tools=[{\"type\": \"code_interpreter\"}],  # Add more tools if needed\n",
    "    model=\"gpt-4o\"\n",
    ")"
   ]
  },
  {
   "cell_type": "markdown",
   "metadata": {},
   "source": [
    "Create a Thred"
   ]
  },
  {
   "cell_type": "code",
   "execution_count": null,
   "metadata": {},
   "outputs": [],
   "source": [
    "from openai import APIError\n",
    "\n",
    "def create_thread():\n",
    "    try:\n",
    "        thread = client.beta.threads.create()\n",
    "        logging.info(f\"Thread created: {thread}\")\n",
    "        return thread\n",
    "    except APIError as e:\n",
    "        logging.error(f\"Error creating thread: {e}\")\n",
    "        return None\n",
    "    except Exception as e:\n",
    "        logging.error(f\"Unexpected error: {e}\")\n",
    "        return None"
   ]
  },
  {
   "cell_type": "markdown",
   "metadata": {},
   "source": [
    "Add a Message to a Thread"
   ]
  },
  {
   "cell_type": "code",
   "execution_count": null,
   "metadata": {},
   "outputs": [],
   "source": [
    "def add_message_to_thread(thread_id, message_content):\n",
    "    try:\n",
    "        message = client.beta.threads.messages.create(\n",
    "            thread_id=thread_id,\n",
    "            role=\"user\",\n",
    "            content=message_content\n",
    "        )\n",
    "        logging.info(f\"Message added to thread: {message}\")\n",
    "        return message\n",
    "    except APIError as e:\n",
    "        logging.error(f\"Error adding message to thread: {e}\")\n",
    "        return None\n",
    "    except Exception as e:\n",
    "        logging.error(f\"Unexpected error: {e}\")\n",
    "        return None"
   ]
  },
  {
   "cell_type": "markdown",
   "metadata": {},
   "source": [
    "Run the Assistant"
   ]
  },
  {
   "cell_type": "code",
   "execution_count": null,
   "metadata": {},
   "outputs": [],
   "source": [
    "def run_assistant(thread_id, assistant_id):\n",
    "    try:\n",
    "        run = client.beta.threads.runs.create(\n",
    "            thread_id=thread_id,\n",
    "            assistant_id=assistant_id\n",
    "        )\n",
    "        logging.info(f\"Run created: {run}\")\n",
    "        return run\n",
    "    except APIError as e:\n",
    "        logging.error(f\"Error running assistant: {e}\")\n",
    "        return None\n",
    "    except Exception as e:\n",
    "        logging.error(f\"Unexpected error: {e}\")\n",
    "        return None"
   ]
  },
  {
   "cell_type": "markdown",
   "metadata": {},
   "source": [
    "Retreive and Display the Assistant's Response"
   ]
  },
  {
   "cell_type": "code",
   "execution_count": null,
   "metadata": {},
   "outputs": [],
   "source": [
    "import time\n",
    "\n",
    "def display_assistant_response(thread_id, run):\n",
    "    try:\n",
    "        # Add a delay to allow the assistant to process\n",
    "        time.sleep(10)  # Increase the delay to ensure processing time\n",
    "\n",
    "        messages = client.beta.threads.messages.list(thread_id=thread_id)\n",
    "        for message in reversed(messages.data):\n",
    "            if message.role == \"assistant\":\n",
    "                for content in message.content:\n",
    "                    print(f\"Assistant: {content.text.value}\")\n",
    "                return\n",
    "        logging.info(\"No response from assistant.\")\n",
    "    except APIError as e:\n",
    "        logging.error(f\"Error retrieving messages: {e}\")\n",
    "    except Exception as e:\n",
    "        logging.error(f\"Unexpected error: {e}\")"
   ]
  },
  {
   "cell_type": "markdown",
   "metadata": {},
   "source": [
    "Example:"
   ]
  },
  {
   "cell_type": "code",
   "execution_count": null,
   "metadata": {},
   "outputs": [],
   "source": [
    "def main():\n",
    "    thread = create_thread()\n",
    "    if thread:\n",
    "        user_input = input(\"Enter your gameplay data or question for analysis: \")\n",
    "        message = add_message_to_thread(thread.id, user_input)\n",
    "        if message:\n",
    "            run = run_assistant(thread.id, assistant.id)\n",
    "            if run:\n",
    "                display_assistant_response(thread.id, run.id)\n",
    "\n",
    "# Run the main function\n",
    "if __name__ == \"__main__\":\n",
    "    main()"
   ]
  }
 ],
 "metadata": {
  "kernelspec": {
   "display_name": "Python 3",
   "language": "python",
   "name": "python3"
  },
  "language_info": {
   "codemirror_mode": {
    "name": "ipython",
    "version": 3
   },
   "file_extension": ".py",
   "mimetype": "text/x-python",
   "name": "python",
   "nbconvert_exporter": "python",
   "pygments_lexer": "ipython3",
   "version": "3.12.4"
  }
 },
 "nbformat": 4,
 "nbformat_minor": 2
}
